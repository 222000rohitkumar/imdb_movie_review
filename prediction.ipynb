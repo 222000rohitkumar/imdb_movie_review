{
 "cells": [
  {
   "cell_type": "code",
   "execution_count": 3,
   "id": "14a5669a",
   "metadata": {},
   "outputs": [],
   "source": [
    "import numpy as np\n",
    "import tensorflow as tf\n",
    "from tensorflow.keras.datasets import imdb\n",
    "from tensorflow.keras.preprocessing import sequence\n",
    "from tensorflow.keras.models import Sequential\n",
    "from tensorflow.keras.layers import Embedding,SimpleRNN,Dense\n"
   ]
  },
  {
   "cell_type": "code",
   "execution_count": 4,
   "id": "01a8647c",
   "metadata": {},
   "outputs": [],
   "source": [
    "## Load the word index\n",
    "word_index=imdb.get_word_index()\n",
    "reverse_word_index={value:key for (key,value) in word_index.items()}"
   ]
  },
  {
   "cell_type": "code",
   "execution_count": 5,
   "id": "504510c2",
   "metadata": {},
   "outputs": [
    {
     "name": "stderr",
     "output_type": "stream",
     "text": [
      "WARNING:absl:Compiled the loaded model, but the compiled metrics have yet to be built. `model.compile_metrics` will be empty until you train or evaluate the model.\n"
     ]
    },
    {
     "data": {
      "text/html": [
       "<pre style=\"white-space:pre;overflow-x:auto;line-height:normal;font-family:Menlo,'DejaVu Sans Mono',consolas,'Courier New',monospace\"><span style=\"font-weight: bold\">Model: \"sequential_1\"</span>\n",
       "</pre>\n"
      ],
      "text/plain": [
       "\u001b[1mModel: \"sequential_1\"\u001b[0m\n"
      ]
     },
     "metadata": {},
     "output_type": "display_data"
    },
    {
     "data": {
      "text/html": [
       "<pre style=\"white-space:pre;overflow-x:auto;line-height:normal;font-family:Menlo,'DejaVu Sans Mono',consolas,'Courier New',monospace\">┏━━━━━━━━━━━━━━━━━━━━━━━━━━━━━━━━━┳━━━━━━━━━━━━━━━━━━━━━━━━┳━━━━━━━━━━━━━━━┓\n",
       "┃<span style=\"font-weight: bold\"> Layer (type)                    </span>┃<span style=\"font-weight: bold\"> Output Shape           </span>┃<span style=\"font-weight: bold\">       Param # </span>┃\n",
       "┡━━━━━━━━━━━━━━━━━━━━━━━━━━━━━━━━━╇━━━━━━━━━━━━━━━━━━━━━━━━╇━━━━━━━━━━━━━━━┩\n",
       "│ embedding_1 (<span style=\"color: #0087ff; text-decoration-color: #0087ff\">Embedding</span>)         │ (<span style=\"color: #00af00; text-decoration-color: #00af00\">32</span>, <span style=\"color: #00af00; text-decoration-color: #00af00\">500</span>, <span style=\"color: #00af00; text-decoration-color: #00af00\">128</span>)         │     <span style=\"color: #00af00; text-decoration-color: #00af00\">1,280,000</span> │\n",
       "├─────────────────────────────────┼────────────────────────┼───────────────┤\n",
       "│ simple_rnn_2 (<span style=\"color: #0087ff; text-decoration-color: #0087ff\">SimpleRNN</span>)        │ (<span style=\"color: #00af00; text-decoration-color: #00af00\">32</span>, <span style=\"color: #00af00; text-decoration-color: #00af00\">500</span>, <span style=\"color: #00af00; text-decoration-color: #00af00\">128</span>)         │        <span style=\"color: #00af00; text-decoration-color: #00af00\">32,896</span> │\n",
       "├─────────────────────────────────┼────────────────────────┼───────────────┤\n",
       "│ simple_rnn_3 (<span style=\"color: #0087ff; text-decoration-color: #0087ff\">SimpleRNN</span>)        │ (<span style=\"color: #00af00; text-decoration-color: #00af00\">32</span>, <span style=\"color: #00af00; text-decoration-color: #00af00\">128</span>)              │        <span style=\"color: #00af00; text-decoration-color: #00af00\">32,896</span> │\n",
       "├─────────────────────────────────┼────────────────────────┼───────────────┤\n",
       "│ dense_1 (<span style=\"color: #0087ff; text-decoration-color: #0087ff\">Dense</span>)                 │ (<span style=\"color: #00af00; text-decoration-color: #00af00\">32</span>, <span style=\"color: #00af00; text-decoration-color: #00af00\">1</span>)                │           <span style=\"color: #00af00; text-decoration-color: #00af00\">129</span> │\n",
       "└─────────────────────────────────┴────────────────────────┴───────────────┘\n",
       "</pre>\n"
      ],
      "text/plain": [
       "┏━━━━━━━━━━━━━━━━━━━━━━━━━━━━━━━━━┳━━━━━━━━━━━━━━━━━━━━━━━━┳━━━━━━━━━━━━━━━┓\n",
       "┃\u001b[1m \u001b[0m\u001b[1mLayer (type)                   \u001b[0m\u001b[1m \u001b[0m┃\u001b[1m \u001b[0m\u001b[1mOutput Shape          \u001b[0m\u001b[1m \u001b[0m┃\u001b[1m \u001b[0m\u001b[1m      Param #\u001b[0m\u001b[1m \u001b[0m┃\n",
       "┡━━━━━━━━━━━━━━━━━━━━━━━━━━━━━━━━━╇━━━━━━━━━━━━━━━━━━━━━━━━╇━━━━━━━━━━━━━━━┩\n",
       "│ embedding_1 (\u001b[38;5;33mEmbedding\u001b[0m)         │ (\u001b[38;5;34m32\u001b[0m, \u001b[38;5;34m500\u001b[0m, \u001b[38;5;34m128\u001b[0m)         │     \u001b[38;5;34m1,280,000\u001b[0m │\n",
       "├─────────────────────────────────┼────────────────────────┼───────────────┤\n",
       "│ simple_rnn_2 (\u001b[38;5;33mSimpleRNN\u001b[0m)        │ (\u001b[38;5;34m32\u001b[0m, \u001b[38;5;34m500\u001b[0m, \u001b[38;5;34m128\u001b[0m)         │        \u001b[38;5;34m32,896\u001b[0m │\n",
       "├─────────────────────────────────┼────────────────────────┼───────────────┤\n",
       "│ simple_rnn_3 (\u001b[38;5;33mSimpleRNN\u001b[0m)        │ (\u001b[38;5;34m32\u001b[0m, \u001b[38;5;34m128\u001b[0m)              │        \u001b[38;5;34m32,896\u001b[0m │\n",
       "├─────────────────────────────────┼────────────────────────┼───────────────┤\n",
       "│ dense_1 (\u001b[38;5;33mDense\u001b[0m)                 │ (\u001b[38;5;34m32\u001b[0m, \u001b[38;5;34m1\u001b[0m)                │           \u001b[38;5;34m129\u001b[0m │\n",
       "└─────────────────────────────────┴────────────────────────┴───────────────┘\n"
      ]
     },
     "metadata": {},
     "output_type": "display_data"
    },
    {
     "data": {
      "text/html": [
       "<pre style=\"white-space:pre;overflow-x:auto;line-height:normal;font-family:Menlo,'DejaVu Sans Mono',consolas,'Courier New',monospace\"><span style=\"font-weight: bold\"> Total params: </span><span style=\"color: #00af00; text-decoration-color: #00af00\">1,345,923</span> (5.13 MB)\n",
       "</pre>\n"
      ],
      "text/plain": [
       "\u001b[1m Total params: \u001b[0m\u001b[38;5;34m1,345,923\u001b[0m (5.13 MB)\n"
      ]
     },
     "metadata": {},
     "output_type": "display_data"
    },
    {
     "data": {
      "text/html": [
       "<pre style=\"white-space:pre;overflow-x:auto;line-height:normal;font-family:Menlo,'DejaVu Sans Mono',consolas,'Courier New',monospace\"><span style=\"font-weight: bold\"> Trainable params: </span><span style=\"color: #00af00; text-decoration-color: #00af00\">1,345,921</span> (5.13 MB)\n",
       "</pre>\n"
      ],
      "text/plain": [
       "\u001b[1m Trainable params: \u001b[0m\u001b[38;5;34m1,345,921\u001b[0m (5.13 MB)\n"
      ]
     },
     "metadata": {},
     "output_type": "display_data"
    },
    {
     "data": {
      "text/html": [
       "<pre style=\"white-space:pre;overflow-x:auto;line-height:normal;font-family:Menlo,'DejaVu Sans Mono',consolas,'Courier New',monospace\"><span style=\"font-weight: bold\"> Non-trainable params: </span><span style=\"color: #00af00; text-decoration-color: #00af00\">0</span> (0.00 B)\n",
       "</pre>\n"
      ],
      "text/plain": [
       "\u001b[1m Non-trainable params: \u001b[0m\u001b[38;5;34m0\u001b[0m (0.00 B)\n"
      ]
     },
     "metadata": {},
     "output_type": "display_data"
    },
    {
     "data": {
      "text/html": [
       "<pre style=\"white-space:pre;overflow-x:auto;line-height:normal;font-family:Menlo,'DejaVu Sans Mono',consolas,'Courier New',monospace\"><span style=\"font-weight: bold\"> Optimizer params: </span><span style=\"color: #00af00; text-decoration-color: #00af00\">2</span> (12.00 B)\n",
       "</pre>\n"
      ],
      "text/plain": [
       "\u001b[1m Optimizer params: \u001b[0m\u001b[38;5;34m2\u001b[0m (12.00 B)\n"
      ]
     },
     "metadata": {},
     "output_type": "display_data"
    }
   ],
   "source": [
    "## Load the pre-trained model with relu activation\n",
    "model = tf.keras.models.load_model('imdb_rnn_model.h5')\n",
    "model.summary()"
   ]
  },
  {
   "cell_type": "code",
   "execution_count": 6,
   "id": "94f9360e",
   "metadata": {},
   "outputs": [
    {
     "data": {
      "text/plain": [
       "[array([[ 2.95788236e-02, -4.71554324e-02, -8.69909376e-02, ...,\n",
       "          5.97934946e-02,  7.41769373e-03, -1.99614167e-02],\n",
       "        [ 4.57883440e-02, -3.85574549e-02,  1.36167239e-02, ...,\n",
       "          2.22623479e-02,  3.09061399e-03, -5.40142283e-02],\n",
       "        [ 1.15171336e-02, -6.11413307e-02,  7.50408396e-02, ...,\n",
       "          6.30784705e-02, -6.40656948e-02, -5.81673719e-03],\n",
       "        ...,\n",
       "        [-1.24790251e-01, -5.74413985e-02, -1.07127205e-01, ...,\n",
       "         -8.75974447e-02, -1.47094848e-02,  1.10614911e-01],\n",
       "        [-1.39368340e-01, -5.56678474e-02, -8.82665664e-02, ...,\n",
       "         -1.53284166e-02,  5.40561490e-02,  1.24326255e-02],\n",
       "        [-1.04538381e-01, -6.15835674e-02, -1.39747396e-01, ...,\n",
       "          2.93358527e-02, -1.58223600e-04,  2.01958567e-01]],\n",
       "       shape=(10000, 128), dtype=float32),\n",
       " array([[-0.2005448 , -0.29310888,  0.12946662, ...,  0.32363024,\n",
       "         -0.10411037, -0.21576409],\n",
       "        [-0.11850333, -0.07781281, -0.15020217, ...,  0.08022376,\n",
       "         -0.0341564 ,  0.04451197],\n",
       "        [-0.01280228, -0.30158406, -0.0340318 , ...,  0.26192307,\n",
       "         -0.09158811, -0.19987659],\n",
       "        ...,\n",
       "        [-0.06423728, -0.16203777, -0.00267835, ...,  0.2599808 ,\n",
       "         -0.02857173,  0.24511854],\n",
       "        [ 0.02824807,  0.07106057, -0.13013661, ..., -0.10837688,\n",
       "          0.00639236, -0.04637717],\n",
       "        [ 0.18373558,  0.21790366,  0.01618241, ..., -0.11192305,\n",
       "          0.06544512, -0.15198754]], shape=(128, 128), dtype=float32),\n",
       " array([[-0.05091219,  0.09706146,  0.11797033, ...,  0.22090185,\n",
       "         -0.06572374,  0.06502867],\n",
       "        [-0.03235981, -0.11883128, -0.05386798, ..., -0.01795491,\n",
       "          0.20353936,  0.20124839],\n",
       "        [-0.20917545, -0.04834983, -0.06158017, ..., -0.04974263,\n",
       "          0.02554645, -0.03086894],\n",
       "        ...,\n",
       "        [-0.13098149,  0.0330074 ,  0.16080101, ...,  0.01306638,\n",
       "          0.14239168, -0.06025584],\n",
       "        [-0.06082235, -0.09426398, -0.12225823, ..., -0.21941453,\n",
       "         -0.01165619,  0.01583152],\n",
       "        [-0.11961958,  0.10902768,  0.11779045, ..., -0.07167893,\n",
       "          0.01123414, -0.12114764]], shape=(128, 128), dtype=float32),\n",
       " array([ 0.0250104 ,  0.04157093,  0.05990845, -0.02204185, -0.05663092,\n",
       "         0.04943696, -0.02589177,  0.00090686,  0.00310966, -0.01488943,\n",
       "         0.0329786 , -0.03850918, -0.02958514, -0.01165081,  0.01629701,\n",
       "         0.04499862, -0.00686628,  0.04836906, -0.01135981, -0.01558329,\n",
       "        -0.01125164, -0.00035584, -0.03111367,  0.06574407,  0.01697381,\n",
       "         0.02577534,  0.03793627, -0.00906086, -0.00438772, -0.01338534,\n",
       "         0.01757886, -0.05940055,  0.04860588, -0.00253864,  0.00810942,\n",
       "         0.02407242, -0.02269168, -0.02699823, -0.00296014,  0.01217618,\n",
       "         0.0133839 ,  0.02778403, -0.00397921, -0.01450452, -0.04712171,\n",
       "        -0.05062834, -0.00619783,  0.03089994,  0.00013971,  0.00715868,\n",
       "        -0.03576217, -0.05644183, -0.0513745 , -0.01416224,  0.00041598,\n",
       "        -0.00443324,  0.006466  ,  0.02846343, -0.03247506, -0.033561  ,\n",
       "         0.00232738, -0.0075384 ,  0.0355889 ,  0.0587927 , -0.04497985,\n",
       "         0.00813311, -0.01369232,  0.00821469,  0.03143794,  0.01116629,\n",
       "         0.0191598 , -0.01333962, -0.04255973,  0.06757979, -0.00360926,\n",
       "        -0.01129995,  0.00574665,  0.00420585, -0.00197014, -0.00521518,\n",
       "        -0.02273927, -0.03623287,  0.05448004,  0.02169404, -0.04685698,\n",
       "        -0.03884688, -0.01983299, -0.04814459,  0.04443086,  0.02305211,\n",
       "         0.01201484, -0.06697099, -0.00930382,  0.03356953,  0.04084988,\n",
       "         0.00947996, -0.02481709,  0.01401162,  0.0195348 ,  0.00144997,\n",
       "         0.01613009, -0.00751712, -0.00208845, -0.03314089, -0.03840853,\n",
       "         0.01877298, -0.05612214, -0.01587695, -0.000549  ,  0.00548624,\n",
       "         0.00960019,  0.01590657,  0.00794766, -0.015403  ,  0.03140759,\n",
       "        -0.01241367, -0.00044285, -0.04020974, -0.01145893, -0.01983711,\n",
       "        -0.00199278,  0.04492438,  0.00590881, -0.01051606,  0.00416815,\n",
       "         0.01893161,  0.01197173,  0.05263776], dtype=float32),\n",
       " array([[-0.15624669, -0.02212495,  0.0048011 , ..., -0.16775982,\n",
       "          0.10418008, -0.10819621],\n",
       "        [ 0.02481673,  0.0930011 , -0.1413337 , ...,  0.21505556,\n",
       "          0.05785852,  0.39009878],\n",
       "        [ 0.17901452, -0.10569445, -0.10800632, ...,  0.10075694,\n",
       "         -0.10261777,  0.0131144 ],\n",
       "        ...,\n",
       "        [-0.0049719 ,  0.13265486, -0.01894329, ...,  0.13803133,\n",
       "         -0.02197102,  0.02455134],\n",
       "        [-0.16055313,  0.19866852,  0.03322873, ...,  0.04388485,\n",
       "         -0.00955875,  0.03502581],\n",
       "        [-0.05960839, -0.00067336,  0.07203796, ..., -0.0034119 ,\n",
       "         -0.07170817, -0.17762366]], shape=(128, 128), dtype=float32),\n",
       " array([[-8.9319520e-02,  1.2032941e-01,  1.1007045e-01, ...,\n",
       "         -8.8986933e-02, -8.2156502e-02,  3.7625529e-02],\n",
       "        [-6.7552596e-02, -7.7589087e-02,  2.4991253e-02, ...,\n",
       "         -2.1236716e-03,  3.5281703e-02,  7.7707358e-03],\n",
       "        [-1.5086327e-01, -3.3537723e-02, -1.0505462e-04, ...,\n",
       "          3.7376300e-02,  4.9685061e-02, -3.1655204e-02],\n",
       "        ...,\n",
       "        [-1.0662480e-01, -1.3853587e-01, -5.5846643e-02, ...,\n",
       "          1.5832561e-01,  1.0141878e-01, -9.9755757e-02],\n",
       "        [-2.4095319e-01,  7.4887924e-02,  8.8076986e-02, ...,\n",
       "         -3.5389178e-02,  1.4555681e-02, -1.0439702e-01],\n",
       "        [-5.7267521e-02, -1.1933232e-01,  1.4640902e-01, ...,\n",
       "          1.3180518e-01, -2.8721881e-01, -1.5772510e-01]],\n",
       "       shape=(128, 128), dtype=float32),\n",
       " array([-0.07306632, -0.01067938,  0.02814853,  0.05567637, -0.11355691,\n",
       "        -0.03565642,  0.00055282,  0.06579772, -0.06803311, -0.06002485,\n",
       "        -0.03419344, -0.06373838, -0.09812365, -0.01664128, -0.0282387 ,\n",
       "        -0.06372852,  0.04012426,  0.04716295, -0.09706556, -0.03624238,\n",
       "        -0.03247768, -0.02455411, -0.03998292,  0.01111111, -0.03373053,\n",
       "        -0.0391073 ,  0.10060276,  0.00418732, -0.09168984, -0.05669998,\n",
       "        -0.09104555, -0.07965682, -0.06074365, -0.03321149,  0.00208328,\n",
       "        -0.10732902, -0.06418841,  0.10936746, -0.02585974,  0.02415747,\n",
       "         0.01143056, -0.14778383,  0.06162222, -0.02280862, -0.03438868,\n",
       "        -0.01470677, -0.04773821,  0.08795399, -0.08748515,  0.01543739,\n",
       "         0.04138111, -0.02375211, -0.02911108, -0.04320092, -0.08852234,\n",
       "         0.02488012, -0.05768692,  0.07808377,  0.07690485,  0.08288999,\n",
       "         0.05626706, -0.04731587,  0.01504233, -0.0761923 ,  0.02905516,\n",
       "         0.0257159 , -0.00340597,  0.01236515,  0.03961561,  0.04565603,\n",
       "        -0.059491  ,  0.08168507, -0.04991468, -0.09193307, -0.03894232,\n",
       "        -0.04873533, -0.08774101,  0.06086523,  0.06315507,  0.0081231 ,\n",
       "         0.01649663,  0.02726194, -0.0029635 ,  0.06119611, -0.04658017,\n",
       "         0.01579288,  0.05132731, -0.00741995,  0.07286129, -0.05508317,\n",
       "         0.04562912,  0.03764174, -0.0873998 , -0.03292646,  0.04773171,\n",
       "        -0.01172161, -0.06093913, -0.08016128,  0.03834132,  0.06284209,\n",
       "        -0.0102957 , -0.06870075,  0.00717587, -0.14231725, -0.00563549,\n",
       "         0.00255118,  0.15754114, -0.00519505,  0.03462526,  0.06291274,\n",
       "         0.08320972,  0.1098881 , -0.07722899,  0.00408569,  0.05440584,\n",
       "         0.04198889, -0.0019302 ,  0.05516871,  0.03936125, -0.0527462 ,\n",
       "        -0.05773254,  0.06988071,  0.0783421 , -0.05799742,  0.02088734,\n",
       "        -0.06213008, -0.02544571,  0.05208189], dtype=float32),\n",
       " array([[ 0.08010842],\n",
       "        [ 0.06661564],\n",
       "        [-0.05010645],\n",
       "        [ 0.07085932],\n",
       "        [ 0.25613096],\n",
       "        [ 0.13683873],\n",
       "        [-0.06453715],\n",
       "        [ 0.00964054],\n",
       "        [ 0.09742852],\n",
       "        [ 0.02051944],\n",
       "        [ 0.02326743],\n",
       "        [-0.16821574],\n",
       "        [ 0.03149344],\n",
       "        [ 0.13576013],\n",
       "        [ 0.06672987],\n",
       "        [-0.03855224],\n",
       "        [-0.07903437],\n",
       "        [ 0.09380603],\n",
       "        [ 0.06115765],\n",
       "        [-0.1070568 ],\n",
       "        [-0.47176296],\n",
       "        [ 0.02957647],\n",
       "        [-0.09059796],\n",
       "        [ 0.1568009 ],\n",
       "        [ 0.04726479],\n",
       "        [ 0.06301534],\n",
       "        [-0.19089256],\n",
       "        [-0.35273287],\n",
       "        [-0.16513088],\n",
       "        [ 0.08955996],\n",
       "        [-0.19505684],\n",
       "        [-0.22478071],\n",
       "        [ 0.00537813],\n",
       "        [-0.00620438],\n",
       "        [-0.05720073],\n",
       "        [-0.12385823],\n",
       "        [-0.07536881],\n",
       "        [-0.05036212],\n",
       "        [-0.1119029 ],\n",
       "        [ 0.11361464],\n",
       "        [ 0.01298406],\n",
       "        [ 0.08315079],\n",
       "        [-0.07667535],\n",
       "        [-0.11160735],\n",
       "        [ 0.12492442],\n",
       "        [ 0.12908742],\n",
       "        [-0.15057614],\n",
       "        [-0.11165557],\n",
       "        [ 0.04349647],\n",
       "        [-0.17133847],\n",
       "        [ 0.18586998],\n",
       "        [-0.46562988],\n",
       "        [ 0.24524792],\n",
       "        [-0.08304385],\n",
       "        [ 0.1527109 ],\n",
       "        [ 0.14883742],\n",
       "        [-0.18686704],\n",
       "        [-0.2978066 ],\n",
       "        [-0.15778925],\n",
       "        [ 0.05118977],\n",
       "        [ 0.02065021],\n",
       "        [ 0.084184  ],\n",
       "        [ 0.10689948],\n",
       "        [-0.20149311],\n",
       "        [ 0.01060725],\n",
       "        [ 0.05960192],\n",
       "        [-0.01089052],\n",
       "        [-0.00200533],\n",
       "        [-0.15932994],\n",
       "        [-0.17606953],\n",
       "        [-0.03551776],\n",
       "        [ 0.00175853],\n",
       "        [ 0.27683583],\n",
       "        [-0.12155605],\n",
       "        [ 0.06912113],\n",
       "        [ 0.17896973],\n",
       "        [ 0.02542608],\n",
       "        [ 0.21891305],\n",
       "        [-0.01287104],\n",
       "        [ 0.06836405],\n",
       "        [-0.17196012],\n",
       "        [-0.09836279],\n",
       "        [ 0.07158124],\n",
       "        [ 0.13580574],\n",
       "        [-0.14412911],\n",
       "        [ 0.12384009],\n",
       "        [-0.00851276],\n",
       "        [-0.05060228],\n",
       "        [ 0.02950408],\n",
       "        [ 0.18744782],\n",
       "        [ 0.2137891 ],\n",
       "        [-0.13453369],\n",
       "        [ 0.02549071],\n",
       "        [ 0.15551491],\n",
       "        [-0.17393705],\n",
       "        [ 0.18408008],\n",
       "        [ 0.27212209],\n",
       "        [-0.33373657],\n",
       "        [-0.05218063],\n",
       "        [ 0.12897539],\n",
       "        [-0.00077252],\n",
       "        [ 0.03049686],\n",
       "        [ 0.07153184],\n",
       "        [ 0.12960653],\n",
       "        [-0.19297943],\n",
       "        [ 0.14366892],\n",
       "        [-0.03667012],\n",
       "        [ 0.08334089],\n",
       "        [ 0.20879088],\n",
       "        [-0.10997912],\n",
       "        [-0.19615394],\n",
       "        [ 0.17093067],\n",
       "        [-0.11748432],\n",
       "        [-0.16365984],\n",
       "        [-0.17737505],\n",
       "        [ 0.11266173],\n",
       "        [-0.17727488],\n",
       "        [ 0.15334868],\n",
       "        [ 0.38714254],\n",
       "        [-0.30263755],\n",
       "        [-0.21971454],\n",
       "        [ 0.27280563],\n",
       "        [-0.15997294],\n",
       "        [-0.12760167],\n",
       "        [ 0.05642773],\n",
       "        [ 0.17230682],\n",
       "        [ 0.20378268],\n",
       "        [ 0.43787676]], dtype=float32),\n",
       " array([0.03188216], dtype=float32)]"
      ]
     },
     "execution_count": 6,
     "metadata": {},
     "output_type": "execute_result"
    }
   ],
   "source": [
    "model.get_weights()"
   ]
  },
  {
   "cell_type": "code",
   "execution_count": 7,
   "id": "bf90a99c",
   "metadata": {},
   "outputs": [],
   "source": [
    "## Step 2 : helper functions\n",
    "## Function to decode review\n",
    "def decode_review(encode_review):\n",
    "    return ' '.join([reverse_word_index.get(i-3,'?') for i in encode_review])\n",
    "\n",
    "## Function to Preprocess the user input\n",
    "def preprocess_text(text):\n",
    "    # Tokenize the text\n",
    "    tokens = text.lower().split()\n",
    "    # Convert tokens to integers based on the word index\n",
    "    encoded = [word_index.get(word,2)+3 for word in tokens] # 2 is for unknown words\n",
    "    # Pad the sequence to ensure it matches the input length of the model\n",
    "    padded = sequence.pad_sequences([encoded],maxlen=256)\n",
    "    return padded"
   ]
  },
  {
   "cell_type": "code",
   "execution_count": 8,
   "id": "86d78ddb",
   "metadata": {},
   "outputs": [],
   "source": [
    "## Prediction function\n",
    "def predict_sentiment(text):\n",
    "    # Preprocess the input text\n",
    "    processed_text = preprocess_text(text)\n",
    "    # Make prediction\n",
    "    prediction = model.predict(processed_text)\n",
    "    # Interpret the prediction\n",
    "    sentiment = 'Positive' if prediction[0][0] > 0.5 else 'Negative'\n",
    "    return sentiment, prediction[0][0]"
   ]
  },
  {
   "cell_type": "code",
   "execution_count": 10,
   "id": "d086086c",
   "metadata": {},
   "outputs": [
    {
     "name": "stdout",
     "output_type": "stream",
     "text": [
      "\u001b[1m1/1\u001b[0m \u001b[32m━━━━━━━━━━━━━━━━━━━━\u001b[0m\u001b[37m\u001b[0m \u001b[1m0s\u001b[0m 473ms/step\n",
      "Review: The movie was fantastic! I really loved it and would watch it again.\n",
      "Predicted Sentiment: Positive (Confidence: 0.65)\n",
      "Prediction Score: 0.649\n"
     ]
    }
   ],
   "source": [
    "## Step 4 : User input and prediction\n",
    "example_review = \"The movie was fantastic! I really loved it and would watch it again.\"\n",
    "sentiment, confidence = predict_sentiment(example_review)\n",
    "print(f\"Review: {example_review}\\nPredicted Sentiment: {sentiment} (Confidence: {confidence:.2f})\")\n",
    "print(f'Prediction Score: {confidence:.3f}')"
   ]
  },
  {
   "cell_type": "code",
   "execution_count": null,
   "id": "16694a27",
   "metadata": {},
   "outputs": [],
   "source": []
  }
 ],
 "metadata": {
  "kernelspec": {
   "display_name": "Python 3",
   "language": "python",
   "name": "python3"
  },
  "language_info": {
   "codemirror_mode": {
    "name": "ipython",
    "version": 3
   },
   "file_extension": ".py",
   "mimetype": "text/x-python",
   "name": "python",
   "nbconvert_exporter": "python",
   "pygments_lexer": "ipython3",
   "version": "3.12.4"
  }
 },
 "nbformat": 4,
 "nbformat_minor": 5
}
